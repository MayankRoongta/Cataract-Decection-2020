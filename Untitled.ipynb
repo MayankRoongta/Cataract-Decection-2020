{
 "cells": [
  {
   "cell_type": "code",
   "execution_count": 2,
   "id": "bc0de908",
   "metadata": {},
   "outputs": [
    {
     "name": "stdout",
     "output_type": "stream",
     "text": [
      "Collecting pandas\n",
      "  Using cached pandas-1.3.3-cp37-cp37m-win_amd64.whl (10.0 MB)\n",
      "Collecting pytz>=2017.3\n",
      "  Using cached pytz-2021.3-py2.py3-none-any.whl (503 kB)\n",
      "Collecting numpy>=1.17.3\n",
      "  Using cached numpy-1.21.2-cp37-cp37m-win_amd64.whl (14.0 MB)\n",
      "Requirement already satisfied: python-dateutil>=2.7.3 in c:\\users\\mayank\\python\\envs\\cataractdetection\\lib\\site-packages (from pandas) (2.8.2)\n",
      "Requirement already satisfied: six>=1.5 in c:\\users\\mayank\\python\\envs\\cataractdetection\\lib\\site-packages (from python-dateutil>=2.7.3->pandas) (1.16.0)\n",
      "Installing collected packages: pytz, numpy, pandas\n",
      "Successfully installed numpy-1.21.2 pandas-1.3.3 pytz-2021.3\n",
      "Note: you may need to restart the kernel to use updated packages.\n"
     ]
    }
   ],
   "source": [
    "#pip install pandas\n"
   ]
  },
  {
   "cell_type": "code",
   "execution_count": 1,
   "id": "fc2c02f6",
   "metadata": {},
   "outputs": [],
   "source": [
    "import pandas as pd"
   ]
  },
  {
   "cell_type": "code",
   "execution_count": 2,
   "id": "84ffb565",
   "metadata": {},
   "outputs": [],
   "source": [
    "data = pd.read_csv(\"cataract.csv\")"
   ]
  },
  {
   "cell_type": "code",
   "execution_count": 3,
   "id": "ca17c93f",
   "metadata": {},
   "outputs": [
    {
     "data": {
      "text/html": [
       "<div>\n",
       "<style scoped>\n",
       "    .dataframe tbody tr th:only-of-type {\n",
       "        vertical-align: middle;\n",
       "    }\n",
       "\n",
       "    .dataframe tbody tr th {\n",
       "        vertical-align: top;\n",
       "    }\n",
       "\n",
       "    .dataframe thead th {\n",
       "        text-align: right;\n",
       "    }\n",
       "</style>\n",
       "<table border=\"1\" class=\"dataframe\">\n",
       "  <thead>\n",
       "    <tr style=\"text-align: right;\">\n",
       "      <th></th>\n",
       "      <th>Age</th>\n",
       "      <th>Education</th>\n",
       "      <th>Occupation</th>\n",
       "      <th>Marital Status</th>\n",
       "      <th>Ethnicity</th>\n",
       "      <th>Religion</th>\n",
       "      <th>Weight(kg)</th>\n",
       "      <th>Height(metres)</th>\n",
       "      <th>BMI_Class</th>\n",
       "      <th>Use_Lenses</th>\n",
       "      <th>...</th>\n",
       "      <th>Hypertension</th>\n",
       "      <th>Hypertensive</th>\n",
       "      <th>Corticosteroid_medications</th>\n",
       "      <th>Past_Eye_surgery</th>\n",
       "      <th>Hormone_Replacement</th>\n",
       "      <th>Have_Myopia</th>\n",
       "      <th>Myopia_intensity</th>\n",
       "      <th>Alcohol</th>\n",
       "      <th>Alcohol_frequency</th>\n",
       "      <th>Risk_of_cataracts</th>\n",
       "    </tr>\n",
       "  </thead>\n",
       "  <tbody>\n",
       "    <tr>\n",
       "      <th>0</th>\n",
       "      <td>25</td>\n",
       "      <td>University</td>\n",
       "      <td>Military</td>\n",
       "      <td>Married</td>\n",
       "      <td>Ibo</td>\n",
       "      <td>Islam</td>\n",
       "      <td>78</td>\n",
       "      <td>1.70</td>\n",
       "      <td>Overweight</td>\n",
       "      <td>No</td>\n",
       "      <td>...</td>\n",
       "      <td>No</td>\n",
       "      <td>No</td>\n",
       "      <td>No</td>\n",
       "      <td>Yes</td>\n",
       "      <td>No</td>\n",
       "      <td>No</td>\n",
       "      <td>Nil</td>\n",
       "      <td>Yes</td>\n",
       "      <td>Weekly</td>\n",
       "      <td>Low</td>\n",
       "    </tr>\n",
       "    <tr>\n",
       "      <th>1</th>\n",
       "      <td>27</td>\n",
       "      <td>University</td>\n",
       "      <td>Civil servant</td>\n",
       "      <td>Married</td>\n",
       "      <td>Yoruba</td>\n",
       "      <td>Christianity</td>\n",
       "      <td>70</td>\n",
       "      <td>1.55</td>\n",
       "      <td>Overweight</td>\n",
       "      <td>No</td>\n",
       "      <td>...</td>\n",
       "      <td>No</td>\n",
       "      <td>No</td>\n",
       "      <td>No</td>\n",
       "      <td>Yes</td>\n",
       "      <td>No</td>\n",
       "      <td>Yes</td>\n",
       "      <td>High</td>\n",
       "      <td>Yes</td>\n",
       "      <td>Weekly</td>\n",
       "      <td>Moderate</td>\n",
       "    </tr>\n",
       "    <tr>\n",
       "      <th>2</th>\n",
       "      <td>43</td>\n",
       "      <td>Polytechnic</td>\n",
       "      <td>Self</td>\n",
       "      <td>Married</td>\n",
       "      <td>Ibo</td>\n",
       "      <td>Christianity</td>\n",
       "      <td>85</td>\n",
       "      <td>1.53</td>\n",
       "      <td>Obese</td>\n",
       "      <td>Yes</td>\n",
       "      <td>...</td>\n",
       "      <td>No</td>\n",
       "      <td>No</td>\n",
       "      <td>No</td>\n",
       "      <td>Yes</td>\n",
       "      <td>No</td>\n",
       "      <td>No</td>\n",
       "      <td>Nil</td>\n",
       "      <td>Yes</td>\n",
       "      <td>Weekly</td>\n",
       "      <td>Low</td>\n",
       "    </tr>\n",
       "    <tr>\n",
       "      <th>3</th>\n",
       "      <td>31</td>\n",
       "      <td>University</td>\n",
       "      <td>Student</td>\n",
       "      <td>Single</td>\n",
       "      <td>Ibo</td>\n",
       "      <td>Christianity</td>\n",
       "      <td>84</td>\n",
       "      <td>1.65</td>\n",
       "      <td>Obese</td>\n",
       "      <td>Yes</td>\n",
       "      <td>...</td>\n",
       "      <td>No</td>\n",
       "      <td>Yes</td>\n",
       "      <td>No</td>\n",
       "      <td>No</td>\n",
       "      <td>No</td>\n",
       "      <td>No</td>\n",
       "      <td>Nil</td>\n",
       "      <td>Yes</td>\n",
       "      <td>Weekly</td>\n",
       "      <td>Moderate</td>\n",
       "    </tr>\n",
       "    <tr>\n",
       "      <th>4</th>\n",
       "      <td>8</td>\n",
       "      <td>Primary</td>\n",
       "      <td>Student</td>\n",
       "      <td>Single</td>\n",
       "      <td>Yoruba</td>\n",
       "      <td>Christianity</td>\n",
       "      <td>51</td>\n",
       "      <td>1.22</td>\n",
       "      <td>Obese</td>\n",
       "      <td>Yes</td>\n",
       "      <td>...</td>\n",
       "      <td>No</td>\n",
       "      <td>No</td>\n",
       "      <td>No</td>\n",
       "      <td>No</td>\n",
       "      <td>No</td>\n",
       "      <td>Yes</td>\n",
       "      <td>High</td>\n",
       "      <td>No</td>\n",
       "      <td>Nil</td>\n",
       "      <td>Low</td>\n",
       "    </tr>\n",
       "  </tbody>\n",
       "</table>\n",
       "<p>5 rows × 25 columns</p>\n",
       "</div>"
      ],
      "text/plain": [
       "   Age    Education     Occupation Marital Status Ethnicity      Religion  \\\n",
       "0   25   University       Military        Married       Ibo         Islam   \n",
       "1   27   University  Civil servant        Married    Yoruba  Christianity   \n",
       "2   43  Polytechnic           Self        Married       Ibo  Christianity   \n",
       "3   31   University        Student         Single       Ibo  Christianity   \n",
       "4    8      Primary        Student         Single    Yoruba  Christianity   \n",
       "\n",
       "   Weight(kg)  Height(metres)   BMI_Class Use_Lenses  ... Hypertension  \\\n",
       "0          78            1.70  Overweight         No  ...           No   \n",
       "1          70            1.55  Overweight         No  ...           No   \n",
       "2          85            1.53       Obese        Yes  ...           No   \n",
       "3          84            1.65       Obese        Yes  ...           No   \n",
       "4          51            1.22       Obese        Yes  ...           No   \n",
       "\n",
       "  Hypertensive Corticosteroid_medications Past_Eye_surgery  \\\n",
       "0           No                         No              Yes   \n",
       "1           No                         No              Yes   \n",
       "2           No                         No              Yes   \n",
       "3          Yes                         No               No   \n",
       "4           No                         No               No   \n",
       "\n",
       "  Hormone_Replacement Have_Myopia Myopia_intensity Alcohol Alcohol_frequency  \\\n",
       "0                  No          No              Nil     Yes            Weekly   \n",
       "1                  No         Yes             High     Yes            Weekly   \n",
       "2                  No          No              Nil     Yes            Weekly   \n",
       "3                  No          No              Nil     Yes            Weekly   \n",
       "4                  No         Yes             High      No               Nil   \n",
       "\n",
       "  Risk_of_cataracts  \n",
       "0               Low  \n",
       "1          Moderate  \n",
       "2               Low  \n",
       "3          Moderate  \n",
       "4               Low  \n",
       "\n",
       "[5 rows x 25 columns]"
      ]
     },
     "execution_count": 3,
     "metadata": {},
     "output_type": "execute_result"
    }
   ],
   "source": [
    "data.head()"
   ]
  },
  {
   "cell_type": "code",
   "execution_count": 4,
   "id": "163dc1d4",
   "metadata": {},
   "outputs": [
    {
     "data": {
      "text/plain": [
       "Index(['Age', 'Education', 'Occupation', 'Marital Status', 'Ethnicity',\n",
       "       'Religion', 'Weight(kg)', 'Height(metres)', 'BMI_Class', 'Use_Lenses',\n",
       "       'Family_History', 'Smoking', 'Smoke_Frequency', 'High_Cholesterol',\n",
       "       'Diabetes', 'Hypertension', 'Hypertensive',\n",
       "       'Corticosteroid_medications', 'Past_Eye_surgery', 'Hormone_Replacement',\n",
       "       'Have_Myopia', 'Myopia_intensity', 'Alcohol', 'Alcohol_frequency',\n",
       "       'Risk_of_cataracts'],\n",
       "      dtype='object')"
      ]
     },
     "execution_count": 4,
     "metadata": {},
     "output_type": "execute_result"
    }
   ],
   "source": [
    "data.columns"
   ]
  },
  {
   "cell_type": "code",
   "execution_count": 5,
   "id": "86a7303c",
   "metadata": {},
   "outputs": [],
   "source": [
    "final_data=data[['Age', 'BMI_Class', 'Use_Lenses',\n",
    "       'Diabetes','High_Cholesterol','Have_Myopia', 'Smoking',   'Alcohol', \n",
    "       'Risk_of_cataracts']]"
   ]
  },
  {
   "cell_type": "code",
   "execution_count": 6,
   "id": "2b57a164",
   "metadata": {},
   "outputs": [
    {
     "data": {
      "text/html": [
       "<div>\n",
       "<style scoped>\n",
       "    .dataframe tbody tr th:only-of-type {\n",
       "        vertical-align: middle;\n",
       "    }\n",
       "\n",
       "    .dataframe tbody tr th {\n",
       "        vertical-align: top;\n",
       "    }\n",
       "\n",
       "    .dataframe thead th {\n",
       "        text-align: right;\n",
       "    }\n",
       "</style>\n",
       "<table border=\"1\" class=\"dataframe\">\n",
       "  <thead>\n",
       "    <tr style=\"text-align: right;\">\n",
       "      <th></th>\n",
       "      <th>Age</th>\n",
       "      <th>BMI_Class</th>\n",
       "      <th>Use_Lenses</th>\n",
       "      <th>Diabetes</th>\n",
       "      <th>High_Cholesterol</th>\n",
       "      <th>Have_Myopia</th>\n",
       "      <th>Smoking</th>\n",
       "      <th>Alcohol</th>\n",
       "      <th>Risk_of_cataracts</th>\n",
       "    </tr>\n",
       "  </thead>\n",
       "  <tbody>\n",
       "    <tr>\n",
       "      <th>0</th>\n",
       "      <td>25</td>\n",
       "      <td>Overweight</td>\n",
       "      <td>No</td>\n",
       "      <td>Yes</td>\n",
       "      <td>No</td>\n",
       "      <td>No</td>\n",
       "      <td>Yes</td>\n",
       "      <td>Yes</td>\n",
       "      <td>Low</td>\n",
       "    </tr>\n",
       "    <tr>\n",
       "      <th>1</th>\n",
       "      <td>27</td>\n",
       "      <td>Overweight</td>\n",
       "      <td>No</td>\n",
       "      <td>Yes</td>\n",
       "      <td>Yes</td>\n",
       "      <td>Yes</td>\n",
       "      <td>Yes</td>\n",
       "      <td>Yes</td>\n",
       "      <td>Moderate</td>\n",
       "    </tr>\n",
       "    <tr>\n",
       "      <th>2</th>\n",
       "      <td>43</td>\n",
       "      <td>Obese</td>\n",
       "      <td>Yes</td>\n",
       "      <td>Yes</td>\n",
       "      <td>No</td>\n",
       "      <td>No</td>\n",
       "      <td>Yes</td>\n",
       "      <td>Yes</td>\n",
       "      <td>Low</td>\n",
       "    </tr>\n",
       "    <tr>\n",
       "      <th>3</th>\n",
       "      <td>31</td>\n",
       "      <td>Obese</td>\n",
       "      <td>Yes</td>\n",
       "      <td>Yes</td>\n",
       "      <td>No</td>\n",
       "      <td>No</td>\n",
       "      <td>Yes</td>\n",
       "      <td>Yes</td>\n",
       "      <td>Moderate</td>\n",
       "    </tr>\n",
       "    <tr>\n",
       "      <th>4</th>\n",
       "      <td>8</td>\n",
       "      <td>Obese</td>\n",
       "      <td>Yes</td>\n",
       "      <td>No</td>\n",
       "      <td>No</td>\n",
       "      <td>Yes</td>\n",
       "      <td>No</td>\n",
       "      <td>No</td>\n",
       "      <td>Low</td>\n",
       "    </tr>\n",
       "  </tbody>\n",
       "</table>\n",
       "</div>"
      ],
      "text/plain": [
       "   Age   BMI_Class Use_Lenses Diabetes High_Cholesterol Have_Myopia Smoking  \\\n",
       "0   25  Overweight         No      Yes               No          No     Yes   \n",
       "1   27  Overweight         No      Yes              Yes         Yes     Yes   \n",
       "2   43       Obese        Yes      Yes               No          No     Yes   \n",
       "3   31       Obese        Yes      Yes               No          No     Yes   \n",
       "4    8       Obese        Yes       No               No         Yes      No   \n",
       "\n",
       "  Alcohol Risk_of_cataracts  \n",
       "0     Yes               Low  \n",
       "1     Yes          Moderate  \n",
       "2     Yes               Low  \n",
       "3     Yes          Moderate  \n",
       "4      No               Low  "
      ]
     },
     "execution_count": 6,
     "metadata": {},
     "output_type": "execute_result"
    }
   ],
   "source": [
    "final_data.head()"
   ]
  },
  {
   "cell_type": "code",
   "execution_count": 7,
   "id": "114836ca",
   "metadata": {},
   "outputs": [
    {
     "name": "stdout",
     "output_type": "stream",
     "text": [
      "Note: you may need to restart the kernel to use updated packages.\n"
     ]
    },
    {
     "name": "stderr",
     "output_type": "stream",
     "text": [
      "'C:\\Users\\ANURAG' is not recognized as an internal or external command,\n",
      "operable program or batch file.\n"
     ]
    }
   ],
   "source": [
    "pip install sklearn"
   ]
  },
  {
   "cell_type": "code",
   "execution_count": 9,
   "id": "7861411a",
   "metadata": {},
   "outputs": [
    {
     "ename": "ValueError",
     "evalue": "source code string cannot contain null bytes",
     "output_type": "error",
     "traceback": [
      "\u001b[1;31m---------------------------------------------------------------------------\u001b[0m",
      "\u001b[1;31mValueError\u001b[0m                                Traceback (most recent call last)",
      "\u001b[1;32m<ipython-input-9-abefdb565681>\u001b[0m in \u001b[0;36m<module>\u001b[1;34m\u001b[0m\n\u001b[0;32m      1\u001b[0m \u001b[1;31m# Import label encoder\u001b[0m\u001b[1;33m\u001b[0m\u001b[1;33m\u001b[0m\u001b[1;33m\u001b[0m\u001b[0m\n\u001b[1;32m----> 2\u001b[1;33m \u001b[1;32mfrom\u001b[0m \u001b[0msklearn\u001b[0m \u001b[1;32mimport\u001b[0m \u001b[0mpreprocessing\u001b[0m\u001b[1;33m\u001b[0m\u001b[1;33m\u001b[0m\u001b[0m\n\u001b[0m",
      "\u001b[1;32m~\\AppData\\Local\\Programs\\Python\\Python39\\lib\\site-packages\\sklearn\\__init__.py\u001b[0m in \u001b[0;36m<module>\u001b[1;34m\u001b[0m\n\u001b[0;32m     80\u001b[0m     \u001b[1;32mfrom\u001b[0m \u001b[1;33m.\u001b[0m \u001b[1;32mimport\u001b[0m \u001b[0m_distributor_init\u001b[0m  \u001b[1;31m# noqa: F401\u001b[0m\u001b[1;33m\u001b[0m\u001b[1;33m\u001b[0m\u001b[0m\n\u001b[0;32m     81\u001b[0m     \u001b[1;32mfrom\u001b[0m \u001b[1;33m.\u001b[0m \u001b[1;32mimport\u001b[0m \u001b[0m__check_build\u001b[0m  \u001b[1;31m# noqa: F401\u001b[0m\u001b[1;33m\u001b[0m\u001b[1;33m\u001b[0m\u001b[0m\n\u001b[1;32m---> 82\u001b[1;33m     \u001b[1;32mfrom\u001b[0m \u001b[1;33m.\u001b[0m\u001b[0mbase\u001b[0m \u001b[1;32mimport\u001b[0m \u001b[0mclone\u001b[0m\u001b[1;33m\u001b[0m\u001b[1;33m\u001b[0m\u001b[0m\n\u001b[0m\u001b[0;32m     83\u001b[0m     \u001b[1;32mfrom\u001b[0m \u001b[1;33m.\u001b[0m\u001b[0mutils\u001b[0m\u001b[1;33m.\u001b[0m\u001b[0m_show_versions\u001b[0m \u001b[1;32mimport\u001b[0m \u001b[0mshow_versions\u001b[0m\u001b[1;33m\u001b[0m\u001b[1;33m\u001b[0m\u001b[0m\n\u001b[0;32m     84\u001b[0m \u001b[1;33m\u001b[0m\u001b[0m\n",
      "\u001b[1;32m~\\AppData\\Local\\Programs\\Python\\Python39\\lib\\site-packages\\sklearn\\base.py\u001b[0m in \u001b[0;36m<module>\u001b[1;34m\u001b[0m\n\u001b[0;32m     15\u001b[0m \u001b[1;32mfrom\u001b[0m \u001b[1;33m.\u001b[0m \u001b[1;32mimport\u001b[0m \u001b[0m__version__\u001b[0m\u001b[1;33m\u001b[0m\u001b[1;33m\u001b[0m\u001b[0m\n\u001b[0;32m     16\u001b[0m \u001b[1;32mfrom\u001b[0m \u001b[1;33m.\u001b[0m\u001b[0m_config\u001b[0m \u001b[1;32mimport\u001b[0m \u001b[0mget_config\u001b[0m\u001b[1;33m\u001b[0m\u001b[1;33m\u001b[0m\u001b[0m\n\u001b[1;32m---> 17\u001b[1;33m \u001b[1;32mfrom\u001b[0m \u001b[1;33m.\u001b[0m\u001b[0mutils\u001b[0m \u001b[1;32mimport\u001b[0m \u001b[0m_IS_32BIT\u001b[0m\u001b[1;33m\u001b[0m\u001b[1;33m\u001b[0m\u001b[0m\n\u001b[0m\u001b[0;32m     18\u001b[0m from .utils._tags import (\n\u001b[0;32m     19\u001b[0m     \u001b[0m_DEFAULT_TAGS\u001b[0m\u001b[1;33m,\u001b[0m\u001b[1;33m\u001b[0m\u001b[1;33m\u001b[0m\u001b[0m\n",
      "\u001b[1;31mValueError\u001b[0m: source code string cannot contain null bytes"
     ]
    }
   ],
   "source": [
    "# Import label encoder\n",
    "from sklearn import preprocessing"
   ]
  },
  {
   "cell_type": "code",
   "execution_count": 124,
   "id": "3bdeabd6",
   "metadata": {},
   "outputs": [],
   "source": [
    "# label_encoder object knows how to understand word labels.\n",
    "label_encoder = preprocessing.LabelEncoder()\n",
    "  \n"
   ]
  },
  {
   "cell_type": "code",
   "execution_count": 125,
   "id": "87aede88",
   "metadata": {},
   "outputs": [
    {
     "name": "stderr",
     "output_type": "stream",
     "text": [
      "C:\\Users\\Mayank\\Python\\envs\\cataractdetection\\lib\\site-packages\\ipykernel_launcher.py:1: SettingWithCopyWarning: \n",
      "A value is trying to be set on a copy of a slice from a DataFrame.\n",
      "Try using .loc[row_indexer,col_indexer] = value instead\n",
      "\n",
      "See the caveats in the documentation: https://pandas.pydata.org/pandas-docs/stable/user_guide/indexing.html#returning-a-view-versus-a-copy\n",
      "  \"\"\"Entry point for launching an IPython kernel.\n"
     ]
    }
   ],
   "source": [
    "final_data['Risk_of_cataracts']= label_encoder.fit_transform(final_data['Risk_of_cataracts'])"
   ]
  },
  {
   "cell_type": "code",
   "execution_count": 132,
   "id": "5b718966",
   "metadata": {},
   "outputs": [
    {
     "data": {
      "text/html": [
       "<div>\n",
       "<style scoped>\n",
       "    .dataframe tbody tr th:only-of-type {\n",
       "        vertical-align: middle;\n",
       "    }\n",
       "\n",
       "    .dataframe tbody tr th {\n",
       "        vertical-align: top;\n",
       "    }\n",
       "\n",
       "    .dataframe thead th {\n",
       "        text-align: right;\n",
       "    }\n",
       "</style>\n",
       "<table border=\"1\" class=\"dataframe\">\n",
       "  <thead>\n",
       "    <tr style=\"text-align: right;\">\n",
       "      <th></th>\n",
       "      <th>Age</th>\n",
       "      <th>Risk_of_cataracts</th>\n",
       "      <th>Use_Lenses_Yes</th>\n",
       "      <th>Diabetes_Yes</th>\n",
       "      <th>High_Cholesterol_Yes</th>\n",
       "      <th>Have_Myopia_Yes</th>\n",
       "      <th>Smoking_Yes</th>\n",
       "      <th>Alcohol_Yes</th>\n",
       "    </tr>\n",
       "  </thead>\n",
       "  <tbody>\n",
       "    <tr>\n",
       "      <th>0</th>\n",
       "      <td>25</td>\n",
       "      <td>0</td>\n",
       "      <td>0</td>\n",
       "      <td>1</td>\n",
       "      <td>0</td>\n",
       "      <td>0</td>\n",
       "      <td>1</td>\n",
       "      <td>1</td>\n",
       "    </tr>\n",
       "    <tr>\n",
       "      <th>1</th>\n",
       "      <td>27</td>\n",
       "      <td>1</td>\n",
       "      <td>0</td>\n",
       "      <td>1</td>\n",
       "      <td>1</td>\n",
       "      <td>1</td>\n",
       "      <td>1</td>\n",
       "      <td>1</td>\n",
       "    </tr>\n",
       "    <tr>\n",
       "      <th>2</th>\n",
       "      <td>43</td>\n",
       "      <td>0</td>\n",
       "      <td>1</td>\n",
       "      <td>1</td>\n",
       "      <td>0</td>\n",
       "      <td>0</td>\n",
       "      <td>1</td>\n",
       "      <td>1</td>\n",
       "    </tr>\n",
       "    <tr>\n",
       "      <th>3</th>\n",
       "      <td>31</td>\n",
       "      <td>1</td>\n",
       "      <td>1</td>\n",
       "      <td>1</td>\n",
       "      <td>0</td>\n",
       "      <td>0</td>\n",
       "      <td>1</td>\n",
       "      <td>1</td>\n",
       "    </tr>\n",
       "    <tr>\n",
       "      <th>4</th>\n",
       "      <td>8</td>\n",
       "      <td>0</td>\n",
       "      <td>1</td>\n",
       "      <td>0</td>\n",
       "      <td>0</td>\n",
       "      <td>1</td>\n",
       "      <td>0</td>\n",
       "      <td>0</td>\n",
       "    </tr>\n",
       "  </tbody>\n",
       "</table>\n",
       "</div>"
      ],
      "text/plain": [
       "   Age  Risk_of_cataracts  Use_Lenses_Yes  Diabetes_Yes  High_Cholesterol_Yes  \\\n",
       "0   25                  0               0             1                     0   \n",
       "1   27                  1               0             1                     1   \n",
       "2   43                  0               1             1                     0   \n",
       "3   31                  1               1             1                     0   \n",
       "4    8                  0               1             0                     0   \n",
       "\n",
       "   Have_Myopia_Yes  Smoking_Yes  Alcohol_Yes  \n",
       "0                0            1            1  \n",
       "1                1            1            1  \n",
       "2                0            1            1  \n",
       "3                0            1            1  \n",
       "4                1            0            0  "
      ]
     },
     "execution_count": 132,
     "metadata": {},
     "output_type": "execute_result"
    }
   ],
   "source": [
    "final_data.head()"
   ]
  },
  {
   "cell_type": "code",
   "execution_count": 127,
   "id": "97fccd97",
   "metadata": {},
   "outputs": [
    {
     "name": "stdout",
     "output_type": "stream",
     "text": [
      "['Age', 'Risk_of_cataracts', 'Use_Lenses_Yes', 'Diabetes_Yes', 'High_Cholesterol_Yes', 'Have_Myopia_Yes', 'Smoking_Yes', 'Alcohol_Yes']\n",
      "['Use_Lenses_Yes', 'Alcohol_Yes', 'Diabetes_Yes', 'Age', 'Have_Myopia_Yes', 'Smoking_Yes', 'High_Cholesterol_Yes']\n"
     ]
    }
   ],
   "source": [
    "final_data=pd.get_dummies(final_data,drop_first=True)\n",
    "\n",
    "#Storing the column names\n",
    "columns_list=list(final_data.columns)\n",
    "print(columns_list)\n",
    "\n",
    "#Separating the input names from data\n",
    "features=list(set(columns_list)-set(['Risk_of_cataracts']))\n",
    "print(features)"
   ]
  },
  {
   "cell_type": "code",
   "execution_count": 128,
   "id": "30a5e4ff",
   "metadata": {},
   "outputs": [
    {
     "name": "stdout",
     "output_type": "stream",
     "text": [
      "[[ 0  1  1 25  0  1  0]\n",
      " [ 0  1  1 27  1  1  1]\n",
      " [ 1  1  1 43  0  1  0]\n",
      " [ 1  1  1 31  0  1  0]\n",
      " [ 1  0  0  8  1  0  0]\n",
      " [ 1  0  1 40  0  0  0]\n",
      " [ 1  0  0 12  0  0  0]\n",
      " [ 0  1  1 20  1  1  1]\n",
      " [ 1  1  1 30  1  1  0]\n",
      " [ 0  1  0 43  1  1  1]\n",
      " [ 0  1  1 50  0  0  0]\n",
      " [ 0  1  1 29  0  1  0]\n",
      " [ 0  1  1 43  0  1  0]\n",
      " [ 0  1  0 48  1  0  1]\n",
      " [ 0  1  1 60  0  0  0]\n",
      " [ 0  1  1 33  1  1  0]\n",
      " [ 0  1  0 30  1  0  0]\n",
      " [ 1  0  0  6  1  0  0]\n",
      " [ 1  0  0 12  1  0  0]\n",
      " [ 0  1  1 23  1  1  0]\n",
      " [ 0  1  0 25  1  1  0]\n",
      " [ 0  1  0 19  0  0  0]\n",
      " [ 0  0  1 35  1  0  1]\n",
      " [ 0  0  0 29  1  0  0]\n",
      " [ 0  1  0 21  0  0  0]\n",
      " [ 0  0  1 35  1  1  1]\n",
      " [ 0  1  1 38  1  1  1]\n",
      " [ 0  0  0 44  0  0  0]\n",
      " [ 0  1  0 23  0  0  1]\n",
      " [ 0  1  0 25  1  1  0]\n",
      " [ 0  0  0 20  0  0  0]]\n",
      "[0 1 0 1 0 0 2 1 1 1 0 0 0 0 2 0 0 0 0 0 0 2 1 0 2 2 0 2 2 0 2]\n"
     ]
    }
   ],
   "source": [
    "#Storing the values from input features\n",
    "x=final_data[features].values\n",
    "print(x)\n",
    "\n",
    "#Storing the output values in y\n",
    "y=final_data['Risk_of_cataracts'].values\n",
    "print(y)\n",
    "\n",
    "#To partition the data\n",
    "from sklearn.model_selection import train_test_split\n",
    "\n",
    "#Splitting the data into train and test\n",
    "train_x,test_x,train_y,test_y = train_test_split(x,y,test_size=0.3,random_state=0)"
   ]
  },
  {
   "cell_type": "code",
   "execution_count": 129,
   "id": "894e7a44",
   "metadata": {},
   "outputs": [
    {
     "data": {
      "text/plain": [
       "RandomForestClassifier(n_estimators=10)"
      ]
     },
     "execution_count": 129,
     "metadata": {},
     "output_type": "execute_result"
    }
   ],
   "source": [
    "# Import the model we are using\n",
    "from sklearn.ensemble import RandomForestClassifier\n",
    "\n",
    "# Instantiate model with 1000 decision trees\n",
    "rf = RandomForestClassifier(n_estimators = 10)\n",
    "\n",
    "# Train the model on training data\n",
    "rf.fit(train_x, train_y)\n",
    "\n"
   ]
  },
  {
   "cell_type": "code",
   "execution_count": 130,
   "id": "5afbaef8",
   "metadata": {},
   "outputs": [
    {
     "name": "stdout",
     "output_type": "stream",
     "text": [
      "[0 0 1 0 2 0 0 0 0 0]\n",
      "[0 0 1 0 2 0 0 0 0 0]\n",
      "[[6 1 0]\n",
      " [1 0 0]\n",
      " [1 0 1]]\n",
      "0.7\n",
      "[0 0 1 0 0 2 1 0 0 0]\n",
      "Missclassified samples : 3\n"
     ]
    }
   ],
   "source": [
    "# Use the forest's predict method on the test data\n",
    "prediction3 = rf.predict(test_x)\n",
    "print(prediction3)\n",
    "prediction3= np.around(prediction3)\n",
    "\n",
    "prediction3 = prediction3.astype(int)\n",
    "print(prediction3)\n",
    "\n",
    "# Confusion matrix\n",
    "confusion_matrix3= confusion_matrix(test_y,prediction3)\n",
    "print(confusion_matrix3)\n",
    "\n",
    "# Accuracy calculation\n",
    "accuracy_score3 = accuracy_score(test_y,prediction3)\n",
    "print(accuracy_score3)\n",
    "\n",
    "# Calculate the absolute errors\n",
    "errors = abs(prediction3 - test_y)\n",
    "print(errors)\n",
    "\n",
    "# Missclassified values from prediction\n",
    "print(\"Missclassified samples : %d\" % (test_y != prediction3).sum())"
   ]
  },
  {
   "cell_type": "code",
   "execution_count": 27,
   "id": "4911fadd",
   "metadata": {},
   "outputs": [
    {
     "name": "stdout",
     "output_type": "stream",
     "text": [
      "Note: you may need to restart the kernel to use updated packages.Requirement already satisfied: numpy in c:\\users\\mayank\\python\\envs\\cataractdetection\\lib\\site-packages (1.21.2)\n",
      "\n"
     ]
    }
   ],
   "source": [
    "pip install numpy\n"
   ]
  },
  {
   "cell_type": "code",
   "execution_count": 28,
   "id": "f5fb28fd",
   "metadata": {},
   "outputs": [],
   "source": [
    "import numpy as np"
   ]
  },
  {
   "cell_type": "code",
   "execution_count": 48,
   "id": "df91a363",
   "metadata": {},
   "outputs": [],
   "source": [
    "from sklearn.metrics import accuracy_score,confusion_matrix"
   ]
  },
  {
   "cell_type": "code",
   "execution_count": 131,
   "id": "7f16d47a",
   "metadata": {},
   "outputs": [],
   "source": [
    "import pickle\n",
    "# open a file, where you ant to store the data\n",
    "file = open('random_forest_classifier_model.pkl', 'wb')\n",
    "\n",
    "# dump information to that file\n",
    "pickle.dump(rf, file)"
   ]
  },
  {
   "cell_type": "code",
   "execution_count": null,
   "id": "7ea5a31c",
   "metadata": {},
   "outputs": [],
   "source": []
  }
 ],
 "metadata": {
  "kernelspec": {
   "display_name": "Python 3 (ipykernel)",
   "language": "python",
   "name": "python3"
  },
  "language_info": {
   "codemirror_mode": {
    "name": "ipython",
    "version": 3
   },
   "file_extension": ".py",
   "mimetype": "text/x-python",
   "name": "python",
   "nbconvert_exporter": "python",
   "pygments_lexer": "ipython3",
   "version": "3.9.4"
  }
 },
 "nbformat": 4,
 "nbformat_minor": 5
}
