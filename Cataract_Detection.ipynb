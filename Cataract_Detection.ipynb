{
  "nbformat": 4,
  "nbformat_minor": 0,
  "metadata": {
    "colab": {
      "name": "Cataract Detection.ipynb",
      "provenance": [],
      "collapsed_sections": []
    },
    "kernelspec": {
      "name": "python3",
      "display_name": "Python 3"
    },
    "language_info": {
      "name": "python"
    }
  },
  "cells": [
    {
      "cell_type": "code",
      "metadata": {
        "id": "d-YRa2kSdoug"
      },
      "source": [
        "import numpy as np\n",
        "import pandas as pd\n",
        "import matplotlib.pyplot as plt\n",
        "import seaborn as sns\n",
        "from plotly.offline import init_notebook_mode, iplot \n",
        "\n",
        "sns.set()"
      ],
      "execution_count": null,
      "outputs": []
    },
    {
      "cell_type": "code",
      "metadata": {
        "id": "PuvPRAiReRXd",
        "colab": {
          "base_uri": "https://localhost:8080/"
        },
        "outputId": "9d7667c5-d415-446d-f5f8-bcc2971be776"
      },
      "source": [
        "from google.colab import drive\n",
        "drive.mount('/content/drive')"
      ],
      "execution_count": null,
      "outputs": [
        {
          "output_type": "stream",
          "name": "stdout",
          "text": [
            "Mounted at /content/drive\n"
          ]
        }
      ]
    },
    {
      "cell_type": "code",
      "metadata": {
        "id": "ImwnuHVEfmxC"
      },
      "source": [
        "data = pd.read_csv(\"/content/drive/My Drive/ML Project/cataract.csv\")"
      ],
      "execution_count": null,
      "outputs": []
    },
    {
      "cell_type": "code",
      "metadata": {
        "id": "D8IYSgmpgUbC"
      },
      "source": [
        "pd.set_option('display.max_columns', None)"
      ],
      "execution_count": null,
      "outputs": []
    },
    {
      "cell_type": "code",
      "metadata": {
        "id": "m86vwiCWgWOK"
      },
      "source": [
        "data.head()"
      ],
      "execution_count": null,
      "outputs": []
    },
    {
      "cell_type": "markdown",
      "metadata": {
        "id": "GQRrAn1s3ESS"
      },
      "source": [
        ""
      ]
    },
    {
      "cell_type": "code",
      "metadata": {
        "id": "6QaJET37g7Wb"
      },
      "source": [
        "#Data preprocessing\n",
        "\n",
        "#To check variables data type\n",
        "print(data.info())\n",
        "\n",
        "#Checking missing values\n",
        "data.isnull()\n",
        "\n",
        "print('Data columns with null values:\\n',data.isnull().sum())"
      ],
      "execution_count": null,
      "outputs": []
    },
    {
      "cell_type": "code",
      "metadata": {
        "id": "g4qnPA5tjTRD"
      },
      "source": [
        "#Summary of numerical variables\n",
        "summary_num = data.describe()\n",
        "print(summary_num)\n",
        "\n",
        "#Summary of categorical variables\n",
        "summary_cat = data.describe(include=\"O\")\n",
        "print(summary_cat)"
      ],
      "execution_count": null,
      "outputs": []
    },
    {
      "cell_type": "code",
      "metadata": {
        "id": "XtzjIcbXjd-X"
      },
      "source": [
        "#Data visualization/Exploratory analysis\n",
        "\n",
        "#Relationship between independent variables\n",
        "correlation = data.corr()\n",
        "\n",
        "#Extracting the column names\n",
        "data.columns\n",
        "\n",
        "#Numerical Data Analysis\n",
        "num_attributes = data.select_dtypes(include=['float64'])\n",
        "print(num_attributes.columns)\n",
        "\n",
        "\n",
        "cat_attributes = data.select_dtypes(include=['object'])\n",
        "print(cat_attributes.columns)"
      ],
      "execution_count": null,
      "outputs": []
    },
    {
      "cell_type": "code",
      "metadata": {
        "id": "nR7BNPUgj-A7"
      },
      "source": [
        "#Myopia_Cataract\n",
        "Myopia = pd.crosstab( index = data[\"Have Myopia\"], columns = 'count', normalize = True)\n",
        "Myopia_Cataract = pd.crosstab( index = data[\"Have Myopia\"],columns = data[\"Risk of cataracts\"], normalize = 'index', margins = True)\n",
        "sns.countplot(y='Have Myopia', hue='Risk of cataracts', data = cat_attributes)"
      ],
      "execution_count": null,
      "outputs": []
    },
    {
      "cell_type": "code",
      "metadata": {
        "id": "6_KccRwkkXnV"
      },
      "source": [
        "#Myopia_Past Eye Surgery\n",
        "PastEyeSurgery = pd.crosstab( index = data[\"Past Eye surgery\"], columns = 'count', normalize = True)\n",
        "Surgery_Cataract = pd.crosstab( index = data[\"Past Eye surgery\"],columns = data[\"Risk of cataracts\"], normalize = 'index', margins = True)\n",
        "sns.countplot(y='Past Eye surgery', hue='Risk of cataracts', data = cat_attributes)\n",
        "\n"
      ],
      "execution_count": null,
      "outputs": []
    },
    {
      "cell_type": "code",
      "metadata": {
        "id": "WQcRQbYhkkHl"
      },
      "source": [
        "#Myopia_Past Eye Surgery\n",
        "PastEyeSurgery = pd.crosstab( index = data[\"Past Eye surgery\"], columns = 'count', normalize = True)\n",
        "Surgery_Cataract = pd.crosstab( index = data[\"Past Eye surgery\"],columns = data[\"Risk of cataracts\"], normalize = 'index', margins = True)\n",
        "sns.countplot(y='Past Eye surgery', hue='Risk of cataracts', data = cat_attributes)\n",
        "\n"
      ],
      "execution_count": null,
      "outputs": []
    },
    {
      "cell_type": "code",
      "metadata": {
        "id": "o2rVDB0pkmq0"
      },
      "source": [
        "#Myopia_Past Eye Surgery\n",
        "Ethnicity = pd.crosstab( index = data[\"Ethnicity\"], columns = 'count', normalize = True)\n",
        "Ethnicity_Cataract = pd.crosstab( index = data[\"Ethnicity\"],columns = data[\"Risk of cataracts\"], normalize = 'index', margins = True)\n",
        "sns.countplot(y='Ethnicity', hue='Risk of cataracts', data = cat_attributes)\n",
        "\n"
      ],
      "execution_count": null,
      "outputs": []
    },
    {
      "cell_type": "code",
      "metadata": {
        "id": "hHLEe74ikqc8"
      },
      "source": [
        "#Myopia_Past Eye Surgery\n",
        "Smoking = pd.crosstab( index = data[\"Smoking\"], columns = 'count', normalize = True)\n",
        "Smoking_Frequency = pd.crosstab( index = data[\"Smoking\"],columns = data[\"Risk of cataracts\"], normalize = 'index', margins = True)\n",
        "sns.countplot(y='Smoking', hue='Risk of cataracts', data = cat_attributes)"
      ],
      "execution_count": null,
      "outputs": []
    },
    {
      "cell_type": "code",
      "metadata": {
        "colab": {
          "base_uri": "https://localhost:8080/"
        },
        "id": "_d7wyAntkxfY",
        "outputId": "498f9ad6-70f3-47ca-d2f1-b6e7aacbc3ad"
      },
      "source": [
        "# Import label encoder\n",
        "from sklearn import preprocessing\n",
        "  \n",
        "# label_encoder object knows how to understand word labels.\n",
        "label_encoder = preprocessing.LabelEncoder()\n",
        "  \n",
        "# Encode labels in column 'species'.\n",
        "data['Risk of cataracts']= label_encoder.fit_transform(data['Risk of cataracts'])\n",
        "\n",
        "new_data=pd.get_dummies(data,drop_first=True)\n",
        "\n",
        "#Storing the column names\n",
        "columns_list=list(new_data.columns)\n",
        "print(columns_list)\n",
        "\n",
        "#Separating the input names from data\n",
        "features=list(set(columns_list)-set(['Risk of cataracts']))\n",
        "print(features)"
      ],
      "execution_count": null,
      "outputs": [
        {
          "output_type": "stream",
          "name": "stdout",
          "text": [
            "['Weight(kg)', 'Height(metres)', 'Risk of cataracts', 'Age(years)_19 to 35', 'Age(years)_Above 35', 'Age(years)_Below 10', 'Education_Primary', 'Education_Secondary', 'Education_University', 'Occupation_Civil servant', 'Occupation_Military', 'Occupation_Self', 'Occupation_Student', 'Occupation_Teacher', 'Occupation_Trader', 'Marital Status_Single', 'Ethnicity_Yoruba', 'Religion_Islam', 'BMI Class_Obese', 'BMI Class_Overweight', 'Use Lenses_Yes', 'Family History_No', 'Smoking_Yes', 'Smoke Frequency_Pack/day', 'Smoke Frequency_Pack/month', 'Smoke Frequency_Pack/week', 'High Cholesterol_Yes', 'Diabetes_Yes', 'Hypertension_Yes', 'Hypertensive_Yes', 'Corticosteroid medications_Yes', 'Past Eye surgery_Yes', 'Hormone Replacement_Yes', 'Have Myopia_Yes', 'Myopia intensity_Low', 'Myopia intensity_Moderate', 'Myopia intensity_Nil', 'Alcohol_Yes', 'Alcohol frequency_Monthly', 'Alcohol frequency_Nil', 'Alcohol frequency_Weekly']\n",
            "['BMI Class_Overweight', 'Occupation_Self', 'BMI Class_Obese', 'Hormone Replacement_Yes', 'Smoking_Yes', 'Myopia intensity_Moderate', 'Myopia intensity_Low', 'Age(years)_Below 10', 'Alcohol frequency_Monthly', 'Myopia intensity_Nil', 'Occupation_Civil servant', 'Occupation_Student', 'Ethnicity_Yoruba', 'Past Eye surgery_Yes', 'Age(years)_19 to 35', 'Education_Secondary', 'Weight(kg)', 'Occupation_Military', 'Age(years)_Above 35', 'Occupation_Teacher', 'Have Myopia_Yes', 'Diabetes_Yes', 'Hypertension_Yes', 'Height(metres)', 'Smoke Frequency_Pack/week', 'Occupation_Trader', 'Alcohol frequency_Weekly', 'Education_University', 'Corticosteroid medications_Yes', 'Education_Primary', 'Alcohol_Yes', 'Alcohol frequency_Nil', 'High Cholesterol_Yes', 'Use Lenses_Yes', 'Marital Status_Single', 'Family History_No', 'Smoke Frequency_Pack/month', 'Religion_Islam', 'Smoke Frequency_Pack/day', 'Hypertensive_Yes']\n"
          ]
        }
      ]
    },
    {
      "cell_type": "code",
      "metadata": {
        "colab": {
          "base_uri": "https://localhost:8080/"
        },
        "id": "Ol7UlDZTlHYG",
        "outputId": "95e91dc0-e8b6-4f01-a6bb-62ecf21f5279"
      },
      "source": [
        "#Storing the values from input features\n",
        "x=new_data[features].values\n",
        "print(x)\n",
        "\n",
        "#Storing the output values in y\n",
        "y=new_data['Risk of cataracts'].values\n",
        "print(y)\n",
        "\n",
        "#To partition the data\n",
        "from sklearn.model_selection import train_test_split\n",
        "\n",
        "#Splitting the data into train and test\n",
        "train_x,test_x,train_y,test_y = train_test_split(x,y,test_size=0.3,random_state=0)"
      ],
      "execution_count": null,
      "outputs": [
        {
          "output_type": "stream",
          "name": "stdout",
          "text": [
            "[[1. 0. 0. ... 1. 0. 0.]\n",
            " [1. 0. 0. ... 0. 0. 0.]\n",
            " [0. 1. 1. ... 0. 0. 0.]\n",
            " ...\n",
            " [1. 0. 0. ... 0. 0. 1.]\n",
            " [0. 0. 0. ... 1. 0. 0.]\n",
            " [0. 0. 1. ... 1. 0. 0.]]\n",
            "[0 1 0 1 0 0 2 1 1 1 0 0 0 0 2 0 0 0 0 0 0 2 1 0 2 2 0 2 2 0 2 0 1 0 1 0 0\n",
            " 2 1 1 1 0 0 0 0 2 0 0 0 0 0 0 2 1 0 2 2 0 2 2 0 2 0 1 0 1 0 0 2 1 1 1 0 0\n",
            " 0 0 2 0 0 0 0 0 0 2 1 0 2 2 0 2 2 0 2]\n"
          ]
        }
      ]
    },
    {
      "cell_type": "code",
      "metadata": {
        "colab": {
          "base_uri": "https://localhost:8080/"
        },
        "id": "a_wtOOQrk63W",
        "outputId": "d76c7c8d-81eb-4028-f1be-d0ffaf61d69a"
      },
      "source": [
        "#Importing library for logistic regression\n",
        "from sklearn.linear_model import LogisticRegression\n",
        "\n",
        "#Importing performance metrics - accuracy score & confusion matrix\n",
        "from sklearn.metrics import accuracy_score,confusion_matrix\n",
        "\n",
        "\n",
        "# Make an instance of the Model\n",
        "logistic = LogisticRegression()\n",
        "\n",
        "# Fitting the vakues for x and y\n",
        "logistic.fit(train_x,train_y)\n",
        "logistic.coef_\n",
        "logistic.intercept_\n",
        "\n",
        "# Prediction from test data\n",
        "prediction1 = logistic.predict(test_x)\n",
        "print(prediction1)\n",
        "\n",
        "# Confusion matrix3\n",
        "confusion_matrix1= confusion_matrix(test_y,prediction1)\n",
        "print(confusion_matrix1)\n",
        "\n",
        "# Accuracy calculation\n",
        "accuracy_score1 = accuracy_score(test_y,prediction1)\n",
        "print(accuracy_score1)\n",
        "\n",
        "from sklearn.metrics import recall_score\n",
        "\n",
        "# Accuracy calculation\n",
        "recall_score1 = recall_score(test_y,prediction1, average='macro')\n",
        "print(recall_score1)"
      ],
      "execution_count": null,
      "outputs": [
        {
          "output_type": "stream",
          "name": "stdout",
          "text": [
            "[0 0 2 0 0 0 0 2 0 0 0 1 2 0 0 2 1 0 2 0 0 0 2 2 0 1 0 0]\n",
            "[[14  0  0]\n",
            " [ 1  3  0]\n",
            " [ 3  0  7]]\n",
            "0.8571428571428571\n",
            "0.8166666666666668\n"
          ]
        },
        {
          "output_type": "stream",
          "name": "stderr",
          "text": [
            "/usr/local/lib/python3.7/dist-packages/sklearn/linear_model/_logistic.py:940: ConvergenceWarning:\n",
            "\n",
            "lbfgs failed to converge (status=1):\n",
            "STOP: TOTAL NO. of ITERATIONS REACHED LIMIT.\n",
            "\n",
            "Increase the number of iterations (max_iter) or scale the data as shown in:\n",
            "    https://scikit-learn.org/stable/modules/preprocessing.html\n",
            "Please also refer to the documentation for alternative solver options:\n",
            "    https://scikit-learn.org/stable/modules/linear_model.html#logistic-regression\n",
            "\n"
          ]
        }
      ]
    },
    {
      "cell_type": "code",
      "metadata": {
        "id": "EiclfGCLmnAU"
      },
      "source": [
        "# KNN Classifier\n",
        "\n",
        "# importing library for KNN\n",
        "from sklearn.neighbors import KNeighborsClassifier\n",
        "\n",
        "# Storing the K nearest neighbors classifier\n",
        "KNN_classifier = KNeighborsClassifier(n_neighbors = 18)\n",
        "\n",
        "# Fitting the values for x and y\n",
        "KNN_classifier.fit(train_x,train_y)\n",
        "\n",
        "# Predicting the test values with model\n",
        "prediction2 = KNN_classifier.predict(test_x)\n",
        "\n",
        "# Performance metric check\n",
        "confusion_matrix2 = confusion_matrix(test_y,prediction2)\n",
        "print(\"\\t\",\"Predicted values\")\n",
        "print(\"Original values\",\"\\n\",confusion_matrix2)\n",
        "\n",
        "# Accuracy calculation\n",
        "accuracy_score2 = accuracy_score(test_y,prediction2)\n",
        "print(accuracy_score2)\n",
        "\n",
        "# Missclassified values from prediction\n",
        "print(\"Missclassified samples : %d\" % (test_y != prediction2).sum())\n",
        "\n",
        "# Accuracy calculation\n",
        "recall_score2 = recall_score(test_y,prediction1, average='macro')\n",
        "print(recall_score2)"
      ],
      "execution_count": null,
      "outputs": []
    },
    {
      "cell_type": "code",
      "metadata": {
        "id": "S-4B0jP0m49x"
      },
      "source": [
        "# Import the model we are using\n",
        "from sklearn.ensemble import RandomForestRegressor\n",
        "\n",
        "# Instantiate model with 1000 decision trees\n",
        "rf = RandomForestRegressor(n_estimators = 10)\n",
        "\n",
        "# Train the model on training data\n",
        "rf.fit(train_x, train_y)\n",
        "\n",
        "# Use the forest's predict method on the test data\n",
        "prediction3 = rf.predict(test_x)\n",
        "print(prediction3)\n",
        "prediction3= np.around(prediction3)\n",
        "\n",
        "prediction3 = prediction3.astype(int)\n",
        "print(prediction3)\n",
        "\n",
        "# Confusion matrix\n",
        "confusion_matrix3= confusion_matrix(test_y,prediction3)\n",
        "print(confusion_matrix3)\n",
        "\n",
        "# Accuracy calculation\n",
        "accuracy_score3 = accuracy_score(test_y,prediction3)\n",
        "print(accuracy_score3)\n",
        "\n",
        "# Calculate the absolute errors\n",
        "errors = abs(prediction3 - test_y)\n",
        "print(errors)\n",
        "\n",
        "# Missclassified values from prediction\n",
        "print(\"Missclassified samples : %d\" % (test_y != prediction3).sum())"
      ],
      "execution_count": null,
      "outputs": []
    }
  ]
}